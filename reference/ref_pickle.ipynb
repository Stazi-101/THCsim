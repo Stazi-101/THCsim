{
 "cells": [
  {
   "cell_type": "code",
   "execution_count": null,
   "metadata": {},
   "outputs": [],
   "source": [
    "import pickle as pkl\n",
    "\n",
    "d = {\"a\": 1, \"b\": 2}\n",
    "\n",
    "with open(r\"someobject.pickle\", \"wb\") as output_file:\n",
    "   pkl.dump(d, output_file)\n",
    "\n",
    "with open(r\"someobject.pickle\", \"rb\") as input_file:\n",
    "   e = pkl.load(input_file)"
   ]
  }
 ],
 "metadata": {
  "language_info": {
   "name": "python"
  }
 },
 "nbformat": 4,
 "nbformat_minor": 2
}
