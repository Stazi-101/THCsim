{
 "cells": [
  {
   "cell_type": "code",
   "execution_count": 1,
   "metadata": {},
   "outputs": [],
   "source": [
    "%load_ext autoreload\n",
    "\n",
    "%autoreload"
   ]
  },
  {
   "cell_type": "code",
   "execution_count": 2,
   "metadata": {},
   "outputs": [],
   "source": [
    "import numpy as np\n",
    "import matplotlib.pyplot as plt\n",
    "from ipywidgets import interact, IntSlider\n",
    "import pickle as pkl"
   ]
  },
  {
   "cell_type": "code",
   "execution_count": 3,
   "metadata": {},
   "outputs": [
    {
     "data": {
      "image/png": "[encoded data removed]",
      "text/plain": [
       "<Figure size 640x480 with 2 Axes>"
      ]
     },
     "metadata": {},
     "output_type": "display_data"
    }
   ],
   "source": [
    "# Example for displaying array slice with matplotlib\n",
    "\n",
    "data = np.random.rand(10, 20, 30, 40)\n",
    "\n",
    "plt.imshow(data[:, :, 3, 4], interpolation='nearest')\n",
    "plt.colorbar()  # Optional: Adds a colorbar to the plot to indicate values\n",
    "plt.show()"
   ]
  },
  {
   "cell_type": "code",
   "execution_count": 5,
   "metadata": {},
   "outputs": [
    {
     "data": {
      "application/vnd.jupyter.widget-view+json": {
       "model_id": "e86f7765f5824729868d0095c7cce597",
       "version_major": 2,
       "version_minor": 0
      },
      "text/plain": [
       "interactive(children=(IntSlider(value=0, description='X Dimension', max=29), IntSlider(value=0, description='Y…"
      ]
     },
     "metadata": {},
     "output_type": "display_data"
    },
    {
     "data": {
      "text/plain": [
       "<function __main__.plot_2d_slice(x=0, y=0)>"
      ]
     },
     "execution_count": 5,
     "metadata": {},
     "output_type": "execute_result"
    }
   ],
   "source": [
    "# Displaying slices along two dimensions of 4D array, using ipywidget sliders\n",
    "\n",
    "data = np.random.rand(10, 20, 30, 40)\n",
    "\n",
    "def plot_2d_slice(x=0, y=0):\n",
    "    # Adjust the slice selection as needed for your specific case\n",
    "    # This example selects a 2D slice by fixing two dimensions and varying the other two\n",
    "    plt.imshow(data[:, :, x, y], interpolation='nearest')\n",
    "\n",
    "# `interact` function call to create two sliders\n",
    "interact(plot_2d_slice,\n",
    "x=IntSlider(min=0, max=data.shape[2]-1, step=1, value=0, description='X Dimension'),\n",
    "y=IntSlider(min=0, max=data.shape[3]-1, step=1, value=0, description='Y Dimension'))"
   ]
  },
  {
   "cell_type": "code",
   "execution_count": 6,
   "metadata": {},
   "outputs": [
    {
     "data": {
      "application/vnd.jupyter.widget-view+json": {
       "model_id": "919d7a9c3a8c46c6aedc971bc854f38d",
       "version_major": 2,
       "version_minor": 0
      },
      "text/plain": [
       "interactive(children=(IntSlider(value=0, description='X Dimension', max=29), IntSlider(value=0, description='Y…"
      ]
     },
     "metadata": {},
     "output_type": "display_data"
    },
    {
     "data": {
      "text/plain": [
       "<function __main__.plot_2d_slice(x=0, y=0)>"
      ]
     },
     "execution_count": 6,
     "metadata": {},
     "output_type": "execute_result"
    }
   ],
   "source": [
    "# Displaying slices along two dimensions of 4+colour D array, using ipywidget sliders\n",
    "data = np.random.rand(10, 20, 30, 40, 3)\n",
    "\n",
    "def plot_2d_slice(x=0, y=0):\n",
    "    # Adjust the slice selection as needed for your specific case\n",
    "    # This example selects a 2D slice by fixing two dimensions and varying the other two\n",
    "    plt.imshow(data[:, :, x, y, :], interpolation='nearest')\n",
    "    plt.show()\n",
    "\n",
    "\n",
    "# `interact` function call to create two sliders\n",
    "interact(plot_2d_slice,\n",
    "x=IntSlider(min=0, max=data.shape[2]-1, step=1, value=0, description='X Dimension'),\n",
    "y=IntSlider(min=0, max=data.shape[3]-1, step=1, value=0, description='Y Dimension'))"
   ]
  }
 ],
 "metadata": {
  "kernelspec": {
   "display_name": "jax",
   "language": "python",
   "name": "python3"
  },
  "language_info": {
   "codemirror_mode": {
    "name": "ipython",
    "version": 3
   },
   "file_extension": ".py",
   "mimetype": "text/x-python",
   "name": "python",
   "nbconvert_exporter": "python",
   "pygments_lexer": "ipython3",
   "version": "3.10.12"
  }
 },
 "nbformat": 4,
 "nbformat_minor": 2
}
