{
 "cells": [
  {
   "cell_type": "code",
   "execution_count": 7,
   "metadata": {},
   "outputs": [],
   "source": [
    "import numpy as np\n",
    "import matplotlib.pyplot as plt\n",
    "from ipywidgets import interact, IntSlider"
   ]
  },
  {
   "cell_type": "code",
   "execution_count": 8,
   "metadata": {},
   "outputs": [
    {
     "data": {
      "application/vnd.jupyter.widget-view+json": {
       "model_id": "993ddccc716c415a92efcb6b802f23c9",
       "version_major": 2,
       "version_minor": 0
      },
      "text/plain": [
       "interactive(children=(IntSlider(value=0, description='X Dimension', max=29), IntSlider(value=0, description='Y…"
      ]
     },
     "metadata": {},
     "output_type": "display_data"
    },
    {
     "data": {
      "text/plain": [
       "<function __main__.plot_2d_slice(x=0, y=0)>"
      ]
     },
     "execution_count": 8,
     "metadata": {},
     "output_type": "execute_result"
    }
   ],
   "source": [
    "# Assuming `data` is your 4-dimensional numpy array\n",
    "# Example: 4D array with dimensions [10, 20, 30, 40]\n",
    "data = np.random.rand(10, 20, 30, 40)\n",
    "\n",
    "def plot_2d_slice(x=0, y=0):\n",
    "    # Adjust the slice selection as needed for your specific case\n",
    "    # This example selects a 2D slice by fixing two dimensions and varying the other two\n",
    "    plt.imshow(data[:, :, x, y], interpolation='nearest')\n",
    "    plt.colorbar()  # Optional: Adds a colorbar to the plot to indicate values\n",
    "    plt.title(\"$\\int_{0}^{1} x^2 dx$\")\n",
    "    plt.show()\n",
    "\n",
    "\n",
    "# `interact` function call to create two sliders\n",
    "interact(plot_2d_slice,\n",
    "x=IntSlider(min=0, max=data.shape[2]-1, step=1, value=0, description='X Dimension'),\n",
    "y=IntSlider(min=0, max=data.shape[3]-1, step=1, value=0, description='Y Dimension'))"
   ]
  },
  {
   "cell_type": "code",
   "execution_count": 10,
   "metadata": {},
   "outputs": [
    {
     "data": {
      "application/vnd.jupyter.widget-view+json": {
       "model_id": "f8160230f577440fb37a2c9fbe5d46a1",
       "version_major": 2,
       "version_minor": 0
      },
      "text/plain": [
       "interactive(children=(IntSlider(value=0, description='X Dimension', max=29), IntSlider(value=0, description='Y…"
      ]
     },
     "metadata": {},
     "output_type": "display_data"
    },
    {
     "data": {
      "text/plain": [
       "<function __main__.plot_2d_slice(x=0, y=0)>"
      ]
     },
     "execution_count": 10,
     "metadata": {},
     "output_type": "execute_result"
    }
   ],
   "source": [
    "# Assuming `data` is your 4-dimensional numpy array\n",
    "# Example: 4D array with dimensions [10, 20, 30, 40]\n",
    "data = np.random.rand(10, 20, 30, 40, 3)\n",
    "\n",
    "def plot_2d_slice(x=0, y=0):\n",
    "    # Adjust the slice selection as needed for your specific case\n",
    "    # This example selects a 2D slice by fixing two dimensions and varying the other two\n",
    "    plt.imshow(data[:, :, x, y, :], interpolation='nearest')\n",
    "    plt.title(\"$\\int_{0}^{1} x^2 dx$\")\n",
    "    plt.show()\n",
    "\n",
    "\n",
    "# `interact` function call to create two sliders\n",
    "interact(plot_2d_slice,\n",
    "x=IntSlider(min=0, max=data.shape[2]-1, step=1, value=0, description='X Dimension'),\n",
    "y=IntSlider(min=0, max=data.shape[3]-1, step=1, value=0, description='Y Dimension'))"
   ]
  }
 ],
 "metadata": {
  "kernelspec": {
   "display_name": "jax",
   "language": "python",
   "name": "python3"
  },
  "language_info": {
   "codemirror_mode": {
    "name": "ipython",
    "version": 3
   },
   "file_extension": ".py",
   "mimetype": "text/x-python",
   "name": "python",
   "nbconvert_exporter": "python",
   "pygments_lexer": "ipython3",
   "version": "3.10.4"
  }
 },
 "nbformat": 4,
 "nbformat_minor": 2
}
