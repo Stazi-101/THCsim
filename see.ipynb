{
 "cells": [
  {
   "cell_type": "code",
   "execution_count": 1,
   "metadata": {},
   "outputs": [],
   "source": [
    "%load_ext autoreload\n",
    "\n",
    "%autoreload"
   ]
  },
  {
   "cell_type": "code",
   "execution_count": 2,
   "metadata": {},
   "outputs": [],
   "source": [
    "import numpy as np\n",
    "import matplotlib.pyplot as plt\n",
    "from ipywidgets import interact, IntSlider\n",
    "import pickle as pkl"
   ]
  },
  {
   "cell_type": "code",
   "execution_count": 16,
   "metadata": {},
   "outputs": [],
   "source": [
    "with open('output/incompressible_Midpoint_t10_0.pkl', 'rb') as file:\n",
    "    output_data = pkl.load(file)\n",
    "\n",
    "from displayer import Displayer\n",
    "dis = Displayer.fromSimOutput({}, output_data)"
   ]
  },
  {
   "cell_type": "code",
   "execution_count": 17,
   "metadata": {},
   "outputs": [
    {
     "data": {
      "application/vnd.jupyter.widget-view+json": {
       "model_id": "a6f5a842bd904062b925b6fad48487b4",
       "version_major": 2,
       "version_minor": 0
      },
      "text/plain": [
       "interactive(children=(IntSlider(value=0, description='X Dimension', max=200), IntSlider(value=0, description='…"
      ]
     },
     "metadata": {},
     "output_type": "display_data"
    },
    {
     "data": {
      "text/plain": [
       "<function __main__.plot_2d_slice(x=0, y=0)>"
      ]
     },
     "execution_count": 17,
     "metadata": {},
     "output_type": "execute_result"
    }
   ],
   "source": [
    "def plot_2d_slice(x=0, y=0):\n",
    "    # Get the correct slice of data wrt state\n",
    "    plt.imshow(dis.slice(x=x, y=y), interpolation='nearest')\n",
    "\n",
    "# `interact` function call to create two sliders\n",
    "interact(plot_2d_slice,\n",
    "x=IntSlider(min=0, max=201-1, step=1, value=0, description='X Dimension', continuous_update=True),\n",
    "y=IntSlider(min=0, max=201, step=1, value=0, description='Y Dimension'))"
   ]
  }
 ],
 "metadata": {
  "kernelspec": {
   "display_name": "jax",
   "language": "python",
   "name": "python3"
  },
  "language_info": {
   "codemirror_mode": {
    "name": "ipython",
    "version": 3
   },
   "file_extension": ".py",
   "mimetype": "text/x-python",
   "name": "python",
   "nbconvert_exporter": "python",
   "pygments_lexer": "ipython3",
   "version": "3.10.12"
  }
 },
 "nbformat": 4,
 "nbformat_minor": 2
}
