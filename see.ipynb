{
 "cells": [
  {
   "cell_type": "code",
   "execution_count": 1,
   "metadata": {},
   "outputs": [],
   "source": [
    "%load_ext autoreload\n",
    "\n",
    "%autoreload"
   ]
  },
  {
   "cell_type": "code",
   "execution_count": 6,
   "metadata": {},
   "outputs": [],
   "source": [
    "import numpy as np\n",
    "import matplotlib.pyplot as plt\n",
    "from ipywidgets import interact, IntSlider\n",
    "import pickle as pkl"
   ]
  },
  {
   "cell_type": "code",
   "execution_count": 33,
   "metadata": {},
   "outputs": [
    {
     "data": {
      "image/png": "[encoded data removed]",
      "text/plain": [
       "<Figure size 640x480 with 2 Axes>"
      ]
     },
     "metadata": {},
     "output_type": "display_data"
    }
   ],
   "source": [
    "data = np.random.rand(10, 20, 30, 40)\n",
    "\n",
    "plt.imshow(data[:, :, 3, 4], interpolation='nearest')\n",
    "plt.colorbar()  # Optional: Adds a colorbar to the plot to indicate values\n",
    "plt.show()\n"
   ]
  },
  {
   "cell_type": "code",
   "execution_count": 31,
   "metadata": {},
   "outputs": [
    {
     "data": {
      "application/vnd.jupyter.widget-view+json": {
       "model_id": "0383b258e13b4d1aa21fdce876686b5f",
       "version_major": 2,
       "version_minor": 0
      },
      "text/plain": [
       "interactive(children=(IntSlider(value=0, description='X Dimension', max=29), IntSlider(value=0, description='Y…"
      ]
     },
     "metadata": {},
     "output_type": "display_data"
    },
    {
     "data": {
      "text/plain": [
       "<function __main__.plot_2d_slice(x=0, y=0)>"
      ]
     },
     "execution_count": 31,
     "metadata": {},
     "output_type": "execute_result"
    }
   ],
   "source": [
    "data = np.random.rand(10, 20, 30, 40)\n",
    "\n",
    "def plot_2d_slice(x=0, y=0):\n",
    "    # Adjust the slice selection as needed for your specific case\n",
    "    # This example selects a 2D slice by fixing two dimensions and varying the other two\n",
    "    plt.imshow(data[:, :, x, y], interpolation='nearest')\n",
    "    plt.colorbar()  # Optional: Adds a colorbar to the plot to indicate values\n",
    "    plt.title(\"$\\int_{0}^{1} x^2 dx$\")\n",
    "    plt.show()\n",
    "\n",
    "\n",
    "# `interact` function call to create two sliders\n",
    "interact(plot_2d_slice,\n",
    "x=IntSlider(min=0, max=data.shape[2]-1, step=1, value=0, description='X Dimension'),\n",
    "y=IntSlider(min=0, max=data.shape[3]-1, step=1, value=0, description='Y Dimension'))"
   ]
  },
  {
   "cell_type": "code",
   "execution_count": 3,
   "metadata": {},
   "outputs": [
    {
     "data": {
      "application/vnd.jupyter.widget-view+json": {
       "model_id": "2361bb7625b64e6792edb060f129b000",
       "version_major": 2,
       "version_minor": 0
      },
      "text/plain": [
       "interactive(children=(IntSlider(value=0, description='X Dimension', max=29), IntSlider(value=0, description='Y…"
      ]
     },
     "metadata": {},
     "output_type": "display_data"
    },
    {
     "data": {
      "text/plain": [
       "<function __main__.plot_2d_slice(x=0, y=0)>"
      ]
     },
     "execution_count": 3,
     "metadata": {},
     "output_type": "execute_result"
    }
   ],
   "source": [
    "# Assuming `data` is your 4-dimensional numpy array\n",
    "# Example: 4D array with dimensions [10, 20, 30, 40]\n",
    "data = np.random.rand(10, 20, 30, 40, 3)\n",
    "\n",
    "def plot_2d_slice(x=0, y=0):\n",
    "    # Adjust the slice selection as needed for your specific case\n",
    "    # This example selects a 2D slice by fixing two dimensions and varying the other two\n",
    "    plt.imshow(data[:, :, x, y, :], interpolation='nearest')\n",
    "    plt.show()\n",
    "\n",
    "\n",
    "# `interact` function call to create two sliders\n",
    "interact(plot_2d_slice,\n",
    "x=IntSlider(min=0, max=data.shape[2]-1, step=1, value=0, description='X Dimension'),\n",
    "y=IntSlider(min=0, max=data.shape[3]-1, step=1, value=0, description='Y Dimension'))"
   ]
  },
  {
   "cell_type": "code",
   "execution_count": 1,
   "metadata": {},
   "outputs": [
    {
     "data": {
      "application/vnd.jupyter.widget-view+json": {
       "model_id": "56292d270c3d4dcf98004809afa27d68",
       "version_major": 2,
       "version_minor": 0
      },
      "text/plain": [
       "interactive(children=(IntSlider(value=0, description='z', max=9), Output()), _dom_classes=('widget-interact',)…"
      ]
     },
     "metadata": {},
     "output_type": "display_data"
    },
    {
     "data": {
      "text/plain": [
       "<function __main__.plot_slice(z)>"
      ]
     },
     "execution_count": 1,
     "metadata": {},
     "output_type": "execute_result"
    }
   ],
   "source": [
    "import numpy as np\n",
    "import matplotlib.pyplot as plt\n",
    "from ipywidgets import interact, IntSlider\n",
    "\n",
    "# Generate sample 3D NumPy array\n",
    "array_3d = np.random.rand(10, 10, 10)\n",
    "\n",
    "def plot_slice(z):\n",
    "    plt.figure(figsize=(8, 6))\n",
    "    plt.imshow(array_3d[:, :, z], cmap='viridis')\n",
    "    plt.title(f\"Slice at z = {z}\")\n",
    "    plt.colorbar()\n",
    "    plt.show()\n",
    "\n",
    "# Create slider widget\n",
    "z_slider = IntSlider(min=0, max=array_3d.shape[2] - 1, step=1, value=0)\n",
    "\n",
    "# Define interactive plot\n",
    "interact(plot_slice, z=z_slider)"
   ]
  },
  {
   "cell_type": "code",
   "execution_count": 7,
   "metadata": {},
   "outputs": [],
   "source": [
    "d = {\"a\": 1, \"b\": 2}\n",
    "\n",
    "with open(r\"someobject.pickle\", \"wb\") as output_file:\n",
    "   pkl.dump(d, output_file)\n",
    "\n",
    "with open(r\"someobject.pickle\", \"rb\") as input_file:\n",
    "   e = pkl.load(input_file)"
   ]
  },
  {
   "cell_type": "code",
   "execution_count": 7,
   "metadata": {},
   "outputs": [],
   "source": [
    "with open('output/test5.npy', 'rb') as file:\n",
    "    ddd = pkl.load(file)\n"
   ]
  },
  {
   "cell_type": "code",
   "execution_count": 8,
   "metadata": {},
   "outputs": [],
   "source": [
    "from displayer import Displayer\n",
    "dis = Displayer.fromSimOutput({}, ddd)"
   ]
  },
  {
   "cell_type": "code",
   "execution_count": 12,
   "metadata": {},
   "outputs": [
    {
     "name": "stdout",
     "output_type": "stream",
     "text": [
      "(200, 400, 3)\n"
     ]
    }
   ],
   "source": [
    "dis.slice(x=4)\n",
    "print(dis.slice(x=4).shape)"
   ]
  },
  {
   "cell_type": "code",
   "execution_count": 25,
   "metadata": {},
   "outputs": [
    {
     "data": {
      "application/vnd.jupyter.widget-view+json": {
       "model_id": "36297e18a8694bb5923d4480964aff4f",
       "version_major": 2,
       "version_minor": 0
      },
      "text/plain": [
       "interactive(children=(IntSlider(value=0, continuous_update=False, description='X Dimension', max=200), IntSlid…"
      ]
     },
     "metadata": {},
     "output_type": "display_data"
    },
    {
     "data": {
      "text/plain": [
       "<function __main__.plot_2d_slice(x=0, y=0)>"
      ]
     },
     "execution_count": 25,
     "metadata": {},
     "output_type": "execute_result"
    }
   ],
   "source": [
    "#print([ys.shape for ys in ddd])\n",
    "\n",
    "def plot_2d_slice(x=0, y=0):\n",
    "    # Adjust the slice selection as needed for your specific case\n",
    "    # This example selects a 2D slice by fixing two dimensions and varying the other two\n",
    "    plt.imshow(dis.slice(x=x), interpolation='nearest')\n",
    "    #plt.show()\n",
    "    return None\n",
    "\n",
    "\n",
    "# `interact` function call to create two sliders\n",
    "interact(plot_2d_slice,\n",
    "x=IntSlider(min=0, max=201-1, step=1, value=0, description='X Dimension', continuous_update=False),\n",
    "y=IntSlider(min=0, max=201, step=1, value=0, description='Y Dimension'))"
   ]
  }
 ],
 "metadata": {
  "kernelspec": {
   "display_name": "jax",
   "language": "python",
   "name": "python3"
  },
  "language_info": {
   "codemirror_mode": {
    "name": "ipython",
    "version": 3
   },
   "file_extension": ".py",
   "mimetype": "text/x-python",
   "name": "python",
   "nbconvert_exporter": "python",
   "pygments_lexer": "ipython3",
   "version": "3.12.2"
  }
 },
 "nbformat": 4,
 "nbformat_minor": 2
}
